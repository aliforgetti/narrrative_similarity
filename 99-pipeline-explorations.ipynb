{
 "cells": [
  {
   "cell_type": "code",
   "execution_count": 302,
   "metadata": {},
   "outputs": [],
   "source": [
    "import csv\n",
    "import numpy as np\n",
    "import pandas as pd\n",
    "import matplotlib.pyplot as plt \n",
    "import re\n",
    "%matplotlib inline"
   ]
  },
  {
   "cell_type": "code",
   "execution_count": 301,
   "metadata": {},
   "outputs": [
    {
     "name": "stderr",
     "output_type": "stream",
     "text": [
      "[nltk_data] Downloading package wordnet to\n",
      "[nltk_data]     C:\\Users\\aliya\\AppData\\Roaming\\nltk_data...\n",
      "[nltk_data]   Package wordnet is already up-to-date!\n"
     ]
    },
    {
     "data": {
      "text/plain": [
       "True"
      ]
     },
     "execution_count": 301,
     "metadata": {},
     "output_type": "execute_result"
    }
   ],
   "source": [
    "from nltk.tokenize import word_tokenize\n",
    "from nltk.stem import WordNetLemmatizer \n",
    "import nltk\n",
    "nltk.download('wordnet')"
   ]
  },
  {
   "cell_type": "code",
   "execution_count": 3,
   "metadata": {},
   "outputs": [],
   "source": [
    "pd.set_option('display.max_columns', None)\n",
    "pd.set_option('display.max_rows', None)"
   ]
  },
  {
   "cell_type": "markdown",
   "metadata": {},
   "source": [
    "### Pipeline Design\n",
    "\n",
    "The original paper uses the BookNLP pipeline to get the attributes of interest from the text. We will try either replicating that or building something gets the elements we need to create the story kernels. This notebook attempts to solve this text preprocessing problem.  \n",
    "\n",
    "[BookNLP](https://github.com/dbamman/book-nlp) is a natural language processing pipeline that scales to books and other long documents (in English), including:\n",
    "- Part-of-speech tagging (Stanford)\n",
    "- Dependency parsing (MaltParser)\n",
    "- Named entity recognition (Stanford)\n",
    "- Character name clustering (e.g., \"Tom\", \"Tom Sawyer\", \"Mr. Sawyer\", \"Thomas Sawyer\" -> TOM_SAWYER)\n",
    "- Quotation speaker identification\n",
    "- Pronominal coreference resolution\n",
    "\n",
    "Reference: David Bamman, Ted Underwood and Noah Smith, \"A Bayesian Mixed Effects Model of Literary Character,\" ACL 2014."
   ]
  },
  {
   "cell_type": "markdown",
   "metadata": {},
   "source": [
    "### Example Processed File\n",
    "This is what the paper provided in their data source. We will take a look at this to understand what is being done. "
   ]
  },
  {
   "cell_type": "code",
   "execution_count": 333,
   "metadata": {},
   "outputs": [
    {
     "data": {
      "text/html": [
       "<div>\n",
       "<style scoped>\n",
       "    .dataframe tbody tr th:only-of-type {\n",
       "        vertical-align: middle;\n",
       "    }\n",
       "\n",
       "    .dataframe tbody tr th {\n",
       "        vertical-align: top;\n",
       "    }\n",
       "\n",
       "    .dataframe thead th {\n",
       "        text-align: right;\n",
       "    }\n",
       "</style>\n",
       "<table border=\"1\" class=\"dataframe\">\n",
       "  <thead>\n",
       "    <tr style=\"text-align: right;\">\n",
       "      <th></th>\n",
       "      <th>cluster_id</th>\n",
       "      <th>movie_id</th>\n",
       "      <th>title</th>\n",
       "      <th>plot_summary</th>\n",
       "      <th>num_words</th>\n",
       "      <th>num_sents</th>\n",
       "    </tr>\n",
       "  </thead>\n",
       "  <tbody>\n",
       "    <tr>\n",
       "      <th>0</th>\n",
       "      <td>1</td>\n",
       "      <td>14141235.0</td>\n",
       "      <td>12_(2007_film)</td>\n",
       "      <td>The jury decides whether a young Chechen boy i...</td>\n",
       "      <td>178</td>\n",
       "      <td>10</td>\n",
       "    </tr>\n",
       "    <tr>\n",
       "      <th>1</th>\n",
       "      <td>1</td>\n",
       "      <td>11094452.0</td>\n",
       "      <td>Ek_Ruka_Hua_Faisla</td>\n",
       "      <td>The story begins in a courtroom where a teenag...</td>\n",
       "      <td>1676</td>\n",
       "      <td>56</td>\n",
       "    </tr>\n",
       "    <tr>\n",
       "      <th>2</th>\n",
       "      <td>1</td>\n",
       "      <td>92605.0</td>\n",
       "      <td>12_Angry_Men_(1957_film)</td>\n",
       "      <td>The story begins in a courtroom where an 18-ye...</td>\n",
       "      <td>1193</td>\n",
       "      <td>42</td>\n",
       "    </tr>\n",
       "    <tr>\n",
       "      <th>3</th>\n",
       "      <td>1</td>\n",
       "      <td>11081144.0</td>\n",
       "      <td>12_Angry_Men_(1997_film)</td>\n",
       "      <td>After the final closing arguments have been pr...</td>\n",
       "      <td>912</td>\n",
       "      <td>34</td>\n",
       "    </tr>\n",
       "    <tr>\n",
       "      <th>4</th>\n",
       "      <td>2</td>\n",
       "      <td>21798180.0</td>\n",
       "      <td>13_(2010_film)</td>\n",
       "      <td>Vincent \"Vince\" Ferro  overhears people talkin...</td>\n",
       "      <td>535</td>\n",
       "      <td>24</td>\n",
       "    </tr>\n",
       "  </tbody>\n",
       "</table>\n",
       "</div>"
      ],
      "text/plain": [
       "   cluster_id    movie_id                     title  \\\n",
       "0           1  14141235.0            12_(2007_film)   \n",
       "1           1  11094452.0        Ek_Ruka_Hua_Faisla   \n",
       "2           1     92605.0  12_Angry_Men_(1957_film)   \n",
       "3           1  11081144.0  12_Angry_Men_(1997_film)   \n",
       "4           2  21798180.0            13_(2010_film)   \n",
       "\n",
       "                                        plot_summary  num_words  num_sents  \n",
       "0  The jury decides whether a young Chechen boy i...        178         10  \n",
       "1  The story begins in a courtroom where a teenag...       1676         56  \n",
       "2  The story begins in a courtroom where an 18-ye...       1193         42  \n",
       "3  After the final closing arguments have been pr...        912         34  \n",
       "4  Vincent \"Vince\" Ferro  overhears people talkin...        535         24  "
      ]
     },
     "execution_count": 333,
     "metadata": {},
     "output_type": "execute_result"
    }
   ],
   "source": [
    "df = pd.read_csv(\"long_df.csv\")\n",
    "df.head()"
   ]
  },
  {
   "cell_type": "code",
   "execution_count": 129,
   "metadata": {},
   "outputs": [],
   "source": [
    "p1 = pd.read_csv(\"data/processedSummaries/14141235.processed\", sep = '\\t',  error_bad_lines=False)"
   ]
  },
  {
   "cell_type": "code",
   "execution_count": 131,
   "metadata": {},
   "outputs": [],
   "source": [
    "text = df.iloc[0,3]"
   ]
  },
  {
   "cell_type": "code",
   "execution_count": 132,
   "metadata": {},
   "outputs": [
    {
     "data": {
      "text/plain": [
       "\"The jury decides whether a young Chechen boy is guilty of the murder of his stepfather, a Russian military officer. Initially it seems that the boy was the murderer. However, one of the jurors  votes in favour of acquittal. Since the verdict must be rendered unanimously, the jurors review the case, and one by one come to the conclusion that the boy was framed. The murder was performed by criminals involved in the construction business. The discussion is repeatedly interrupted by flashbacks from the boy's wartime childhood. In the end the foreman states that he was sure the boy did not commit the crime but he will not vote in favour of acquittal since the acquitted boy will be subsequently killed by the same criminals. In addition, the foreman reveals that he is a former intelligence agency officer. After a brief argument, the foreman agrees to join the majority. Later the foreman tells the boy that he will find the murderers.\""
      ]
     },
     "execution_count": 132,
     "metadata": {},
     "output_type": "execute_result"
    }
   ],
   "source": [
    "text"
   ]
  },
  {
   "cell_type": "markdown",
   "metadata": {},
   "source": [
    "## Spacy Pipelines\n"
   ]
  },
  {
   "cell_type": "code",
   "execution_count": 133,
   "metadata": {},
   "outputs": [],
   "source": [
    "import spacy\n",
    "from spacy.matcher import Matcher\n",
    "from spacy.tokens import Span"
   ]
  },
  {
   "cell_type": "code",
   "execution_count": 134,
   "metadata": {},
   "outputs": [],
   "source": [
    "nlp = spacy.load(\"en_core_web_lg\")"
   ]
  },
  {
   "cell_type": "code",
   "execution_count": 135,
   "metadata": {},
   "outputs": [
    {
     "data": {
      "text/plain": [
       "[('tagger', <spacy.pipeline.pipes.Tagger at 0x26083321588>),\n",
       " ('parser', <spacy.pipeline.pipes.DependencyParser at 0x26084abea08>),\n",
       " ('ner', <spacy.pipeline.pipes.EntityRecognizer at 0x260832e1d08>)]"
      ]
     },
     "execution_count": 135,
     "metadata": {},
     "output_type": "execute_result"
    }
   ],
   "source": [
    "nlp.pipeline"
   ]
  },
  {
   "cell_type": "markdown",
   "metadata": {},
   "source": [
    "### Part 1 : Plot Similarity\n",
    "1. We model events mentioned in a story by identifying all verbs occurring in the text of the narrative. \n",
    "2. We capture entities and their properties by identifying nouns and the adjectives that modify them.\n",
    "\n",
    "This is for text entities that do not represent a character mention.\n",
    "\n",
    "3. We represent the plot of a narrative using a bag-of-word representation of its events and entities (and their characteristics) as described above.\n",
    "4. We then define Splot(si, sj ) as the cosine similarity between these representations for narratives si and sj. "
   ]
  },
  {
   "cell_type": "code",
   "execution_count": 272,
   "metadata": {},
   "outputs": [],
   "source": [
    "def preprocessing(text):\n",
    "    doc = nlp(text)\n",
    "    \n",
    "    token_list = []\n",
    "    token_ent = []\n",
    "    token_lemmas = []\n",
    "    token_pos =[]\n",
    "    token_tags = []\n",
    "    token_dep = []\n",
    "    token_head_text = []\n",
    "    token_head_pos = []\n",
    "    token_children = []\n",
    "    token_punct = []\n",
    "    \n",
    "    for token in doc:\n",
    "        token_list.append(token.text)\n",
    "        token_ent.append(token.ent_type_)\n",
    "        token_lemmas.append(token.lemma_)\n",
    "        token_pos.append(token.pos_)\n",
    "        token_tags.append(token.tag_)\n",
    "        token_dep.append(token.dep_)\n",
    "        token_head_text.append(token.head)\n",
    "        token_head_pos.append(token.head.pos_)\n",
    "        token_children.append([child for child in token.children])\n",
    "        token_punct.append(token.is_punct)\n",
    "    \n",
    "    processed = pd.DataFrame(token_list, token_lemmas).reset_index()\n",
    "    processed.columns = ['tokens','lemmas']\n",
    "    processed['ent'] = token_ent\n",
    "    processed['pos'] = token_pos\n",
    "    processed['tags'] = token_tags\n",
    "    processed['dep'] = token_dep\n",
    "    processed['head_text'] = token_head_text\n",
    "    processed['head_pos'] = token_head_pos\n",
    "    processed['children'] = token_children\n",
    "    processed['punct'] = token_punct\n",
    "    \n",
    "    return processed"
   ]
  },
  {
   "cell_type": "code",
   "execution_count": 273,
   "metadata": {},
   "outputs": [
    {
     "data": {
      "text/html": [
       "<div>\n",
       "<style scoped>\n",
       "    .dataframe tbody tr th:only-of-type {\n",
       "        vertical-align: middle;\n",
       "    }\n",
       "\n",
       "    .dataframe tbody tr th {\n",
       "        vertical-align: top;\n",
       "    }\n",
       "\n",
       "    .dataframe thead th {\n",
       "        text-align: right;\n",
       "    }\n",
       "</style>\n",
       "<table border=\"1\" class=\"dataframe\">\n",
       "  <thead>\n",
       "    <tr style=\"text-align: right;\">\n",
       "      <th></th>\n",
       "      <th>cluster_id</th>\n",
       "      <th>movie_id</th>\n",
       "      <th>title</th>\n",
       "      <th>plot_summary</th>\n",
       "    </tr>\n",
       "  </thead>\n",
       "  <tbody>\n",
       "    <tr>\n",
       "      <th>0</th>\n",
       "      <td>1</td>\n",
       "      <td>14141235.0</td>\n",
       "      <td>12_(2007_film)</td>\n",
       "      <td>The jury decides whether a young Chechen boy i...</td>\n",
       "    </tr>\n",
       "    <tr>\n",
       "      <th>1</th>\n",
       "      <td>1</td>\n",
       "      <td>11094452.0</td>\n",
       "      <td>Ek_Ruka_Hua_Faisla</td>\n",
       "      <td>The story begins in a courtroom where a teenag...</td>\n",
       "    </tr>\n",
       "    <tr>\n",
       "      <th>2</th>\n",
       "      <td>1</td>\n",
       "      <td>92605.0</td>\n",
       "      <td>12_Angry_Men_(1957_film)</td>\n",
       "      <td>The story begins in a courtroom where an 18-ye...</td>\n",
       "    </tr>\n",
       "    <tr>\n",
       "      <th>3</th>\n",
       "      <td>1</td>\n",
       "      <td>11081144.0</td>\n",
       "      <td>12_Angry_Men_(1997_film)</td>\n",
       "      <td>After the final closing arguments have been pr...</td>\n",
       "    </tr>\n",
       "    <tr>\n",
       "      <th>4</th>\n",
       "      <td>2</td>\n",
       "      <td>21798180.0</td>\n",
       "      <td>13_(2010_film)</td>\n",
       "      <td>Vincent \"Vince\" Ferro  overhears people talkin...</td>\n",
       "    </tr>\n",
       "  </tbody>\n",
       "</table>\n",
       "</div>"
      ],
      "text/plain": [
       "   cluster_id    movie_id                     title  \\\n",
       "0           1  14141235.0            12_(2007_film)   \n",
       "1           1  11094452.0        Ek_Ruka_Hua_Faisla   \n",
       "2           1     92605.0  12_Angry_Men_(1957_film)   \n",
       "3           1  11081144.0  12_Angry_Men_(1997_film)   \n",
       "4           2  21798180.0            13_(2010_film)   \n",
       "\n",
       "                                        plot_summary  \n",
       "0  The jury decides whether a young Chechen boy i...  \n",
       "1  The story begins in a courtroom where a teenag...  \n",
       "2  The story begins in a courtroom where an 18-ye...  \n",
       "3  After the final closing arguments have been pr...  \n",
       "4  Vincent \"Vince\" Ferro  overhears people talkin...  "
      ]
     },
     "execution_count": 273,
     "metadata": {},
     "output_type": "execute_result"
    }
   ],
   "source": [
    "df.head()"
   ]
  },
  {
   "cell_type": "code",
   "execution_count": 274,
   "metadata": {},
   "outputs": [],
   "source": [
    "story1 = df.iloc[1,3]\n",
    "story2 = df.iloc[2,3]"
   ]
  },
  {
   "cell_type": "code",
   "execution_count": 276,
   "metadata": {},
   "outputs": [],
   "source": [
    "story1_p = preprocessing(story1)\n",
    "story2_p = preprocessing(story2)"
   ]
  },
  {
   "cell_type": "code",
   "execution_count": 216,
   "metadata": {},
   "outputs": [],
   "source": [
    "def cos_sim(a, b):\n",
    "    \"\"\"Takes 2 vectors a, b and returns the cosine similarity according \n",
    "    to the definition of the dot product\n",
    "    \"\"\"\n",
    "    dot_product = np.dot(a, b)\n",
    "    norm_a = np.linalg.norm(a)\n",
    "    norm_b = np.linalg.norm(b)\n",
    "    return dot_product / (norm_a * norm_b)"
   ]
  },
  {
   "cell_type": "code",
   "execution_count": 218,
   "metadata": {},
   "outputs": [],
   "source": [
    "def similarity_calculator(a,b):\n",
    "    N1 = len(a)\n",
    "    N2 = len(b)\n",
    "\n",
    "    counts = pd.DataFrame(a).reset_index()\n",
    "    counts.columns = ['word', 'count1']\n",
    "\n",
    "    df_temp = pd.DataFrame(b).reset_index()\n",
    "    df_temp.columns = ['word', 'count2']\n",
    "\n",
    "    final_counts = pd.merge(counts, df_temp, on ='word', how ='outer')\n",
    "    final_counts.fillna(0, inplace = True)\n",
    "    final_counts['count1'] = final_counts['count1']/N1\n",
    "    final_counts['count2'] = final_counts['count2']/N2\n",
    "    \n",
    "    return cos_sim(final_counts['count1'].values,final_counts['count2'].values )"
   ]
  },
  {
   "cell_type": "code",
   "execution_count": 228,
   "metadata": {},
   "outputs": [],
   "source": [
    "def s_plot(story1, story2):\n",
    "    story1_p = preprocessing(story1)\n",
    "    story2_p = preprocessing(story2)\n",
    "    \n",
    "    adj_counts1 = story1_p[(story1_p['pos']=='ADJ')&(story1_p['head_pos']=='NOUN')]['lemmas'].value_counts()\n",
    "    adj_counts2 = story2_p[(story2_p['pos']=='ADJ')&(story2_p['head_pos']=='NOUN')]['lemmas'].value_counts()\n",
    "    \n",
    "    verb_counts1 = story1_p[story1_p['pos']=='VERB']['lemmas'].value_counts()\n",
    "    verb_counts2 = story2_p[story2_p['pos']=='VERB']['lemmas'].value_counts()\n",
    "    \n",
    "    noun_counts1 = story1_p[(story1_p['pos']=='NOUN')&(story1_p['dep']!='nsubj')]['lemmas'].value_counts()\n",
    "    noun_counts2 = story2_p[(story2_p['pos']=='NOUN')&(story2_p['dep']!='nsubj')]['lemmas'].value_counts()\n",
    "    \n",
    "    adj_similarity = similarity_calculator(adj_counts1, adj_counts2)\n",
    "    verb_similarity = similarity_calculator(verb_counts1, verb_counts2)\n",
    "    noun_similarity = similarity_calculator(noun_counts1, noun_counts2)\n",
    "    \n",
    "    return  np.mean(np.asarray(adj_similarity, verb_similarity, noun_similarity))"
   ]
  },
  {
   "cell_type": "code",
   "execution_count": 229,
   "metadata": {},
   "outputs": [
    {
     "data": {
      "text/plain": [
       "0.8709296863229077"
      ]
     },
     "execution_count": 229,
     "metadata": {},
     "output_type": "execute_result"
    }
   ],
   "source": [
    "s_plot(story1, story2)"
   ]
  },
  {
   "cell_type": "markdown",
   "metadata": {},
   "source": [
    "### Part 2 : Character Similarity"
   ]
  },
  {
   "cell_type": "code",
   "execution_count": 323,
   "metadata": {},
   "outputs": [],
   "source": [
    "main_chars1 = story1_p[(story1_p['tags']=='NN')&(story1_p['head_pos']=='VERB')&(story1_p['dep']=='nsubj')]['lemmas'].value_counts()\n",
    "main_chars2 = story2_p[(story2_p['tags']=='NN')&(story2_p['head_pos']=='VERB')&(story2_p['dep']=='nsubj')]['lemmas'].value_counts()"
   ]
  },
  {
   "cell_type": "code",
   "execution_count": 324,
   "metadata": {},
   "outputs": [],
   "source": [
    "temp1 = pd.DataFrame(main_chars1).reset_index()\n",
    "temp1.columns = ['word', 'count1']\n",
    "temp1['count1'] = temp1['count1']/len(main_chars1)"
   ]
  },
  {
   "cell_type": "code",
   "execution_count": 325,
   "metadata": {},
   "outputs": [],
   "source": [
    "def counter(ls, w):\n",
    "    lemmatizer = WordNetLemmatizer()\n",
    "    count = 0\n",
    "    for word in ls:\n",
    "        if w.lower() == word.lower(): count += 1  \n",
    "    return count"
   ]
  },
  {
   "cell_type": "code",
   "execution_count": 326,
   "metadata": {},
   "outputs": [],
   "source": [
    "story_len = len(story1_p[story1_p['punct']==False])\n",
    "tokenized_story = story1_p[story1_p['punct']==False].lemmas.str.lower().tolist()"
   ]
  },
  {
   "cell_type": "code",
   "execution_count": 327,
   "metadata": {},
   "outputs": [
    {
     "data": {
      "text/plain": [
       "38"
      ]
     },
     "execution_count": 327,
     "metadata": {},
     "output_type": "execute_result"
    }
   ],
   "source": [
    "counter(tokenized_story,'juror')"
   ]
  },
  {
   "cell_type": "code",
   "execution_count": 329,
   "metadata": {},
   "outputs": [
    {
     "data": {
      "text/html": [
       "<div>\n",
       "<style scoped>\n",
       "    .dataframe tbody tr th:only-of-type {\n",
       "        vertical-align: middle;\n",
       "    }\n",
       "\n",
       "    .dataframe tbody tr th {\n",
       "        vertical-align: top;\n",
       "    }\n",
       "\n",
       "    .dataframe thead th {\n",
       "        text-align: right;\n",
       "    }\n",
       "</style>\n",
       "<table border=\"1\" class=\"dataframe\">\n",
       "  <thead>\n",
       "    <tr style=\"text-align: right;\">\n",
       "      <th></th>\n",
       "      <th>word</th>\n",
       "      <th>count1</th>\n",
       "    </tr>\n",
       "  </thead>\n",
       "  <tbody>\n",
       "    <tr>\n",
       "      <th>0</th>\n",
       "      <td>Juror</td>\n",
       "      <td>0.263158</td>\n",
       "    </tr>\n",
       "    <tr>\n",
       "      <th>1</th>\n",
       "      <td>defendant</td>\n",
       "      <td>0.263158</td>\n",
       "    </tr>\n",
       "    <tr>\n",
       "      <th>2</th>\n",
       "      <td>boy</td>\n",
       "      <td>0.157895</td>\n",
       "    </tr>\n",
       "    <tr>\n",
       "      <th>3</th>\n",
       "      <td>witness</td>\n",
       "      <td>0.157895</td>\n",
       "    </tr>\n",
       "    <tr>\n",
       "      <th>4</th>\n",
       "      <td>story</td>\n",
       "      <td>0.105263</td>\n",
       "    </tr>\n",
       "    <tr>\n",
       "      <th>5</th>\n",
       "      <td>vote</td>\n",
       "      <td>0.105263</td>\n",
       "    </tr>\n",
       "    <tr>\n",
       "      <th>6</th>\n",
       "      <td>judge</td>\n",
       "      <td>0.105263</td>\n",
       "    </tr>\n",
       "    <tr>\n",
       "      <th>7</th>\n",
       "      <td>jury</td>\n",
       "      <td>0.105263</td>\n",
       "    </tr>\n",
       "    <tr>\n",
       "      <th>8</th>\n",
       "      <td>storm</td>\n",
       "      <td>0.052632</td>\n",
       "    </tr>\n",
       "    <tr>\n",
       "      <th>9</th>\n",
       "      <td>murder</td>\n",
       "      <td>0.052632</td>\n",
       "    </tr>\n",
       "    <tr>\n",
       "      <th>10</th>\n",
       "      <td>fact</td>\n",
       "      <td>0.052632</td>\n",
       "    </tr>\n",
       "    <tr>\n",
       "      <th>11</th>\n",
       "      <td>person</td>\n",
       "      <td>0.052632</td>\n",
       "    </tr>\n",
       "    <tr>\n",
       "      <th>12</th>\n",
       "      <td>attack</td>\n",
       "      <td>0.052632</td>\n",
       "    </tr>\n",
       "    <tr>\n",
       "      <th>13</th>\n",
       "      <td>revelation</td>\n",
       "      <td>0.052632</td>\n",
       "    </tr>\n",
       "    <tr>\n",
       "      <th>14</th>\n",
       "      <td>deliberation</td>\n",
       "      <td>0.052632</td>\n",
       "    </tr>\n",
       "    <tr>\n",
       "      <th>15</th>\n",
       "      <td>argument</td>\n",
       "      <td>0.052632</td>\n",
       "    </tr>\n",
       "    <tr>\n",
       "      <th>16</th>\n",
       "      <td>woman</td>\n",
       "      <td>0.052632</td>\n",
       "    </tr>\n",
       "    <tr>\n",
       "      <th>17</th>\n",
       "      <td>opponent</td>\n",
       "      <td>0.052632</td>\n",
       "    </tr>\n",
       "    <tr>\n",
       "      <th>18</th>\n",
       "      <td>experiment</td>\n",
       "      <td>0.052632</td>\n",
       "    </tr>\n",
       "  </tbody>\n",
       "</table>\n",
       "</div>"
      ],
      "text/plain": [
       "            word    count1\n",
       "0          Juror  0.263158\n",
       "1      defendant  0.263158\n",
       "2            boy  0.157895\n",
       "3        witness  0.157895\n",
       "4          story  0.105263\n",
       "5           vote  0.105263\n",
       "6          judge  0.105263\n",
       "7           jury  0.105263\n",
       "8          storm  0.052632\n",
       "9         murder  0.052632\n",
       "10          fact  0.052632\n",
       "11        person  0.052632\n",
       "12        attack  0.052632\n",
       "13    revelation  0.052632\n",
       "14  deliberation  0.052632\n",
       "15      argument  0.052632\n",
       "16         woman  0.052632\n",
       "17      opponent  0.052632\n",
       "18    experiment  0.052632"
      ]
     },
     "execution_count": 329,
     "metadata": {},
     "output_type": "execute_result"
    }
   ],
   "source": [
    "temp1"
   ]
  },
  {
   "cell_type": "code",
   "execution_count": 330,
   "metadata": {},
   "outputs": [],
   "source": [
    "total_mentions = 0\n",
    "counts = []\n",
    "for word in temp1['word'].tolist():\n",
    "    count = counter(tokenized_story, word)\n",
    "    counts.append(count)\n",
    "    total_mentions += count"
   ]
  },
  {
   "cell_type": "code",
   "execution_count": 331,
   "metadata": {},
   "outputs": [
    {
     "data": {
      "text/html": [
       "<div>\n",
       "<style scoped>\n",
       "    .dataframe tbody tr th:only-of-type {\n",
       "        vertical-align: middle;\n",
       "    }\n",
       "\n",
       "    .dataframe tbody tr th {\n",
       "        vertical-align: top;\n",
       "    }\n",
       "\n",
       "    .dataframe thead th {\n",
       "        text-align: right;\n",
       "    }\n",
       "</style>\n",
       "<table border=\"1\" class=\"dataframe\">\n",
       "  <thead>\n",
       "    <tr style=\"text-align: right;\">\n",
       "      <th></th>\n",
       "      <th>word</th>\n",
       "      <th>count1</th>\n",
       "      <th>total_counts</th>\n",
       "    </tr>\n",
       "  </thead>\n",
       "  <tbody>\n",
       "    <tr>\n",
       "      <th>0</th>\n",
       "      <td>Juror</td>\n",
       "      <td>0.263158</td>\n",
       "      <td>38</td>\n",
       "    </tr>\n",
       "    <tr>\n",
       "      <th>1</th>\n",
       "      <td>defendant</td>\n",
       "      <td>0.263158</td>\n",
       "      <td>8</td>\n",
       "    </tr>\n",
       "    <tr>\n",
       "      <th>2</th>\n",
       "      <td>boy</td>\n",
       "      <td>0.157895</td>\n",
       "      <td>8</td>\n",
       "    </tr>\n",
       "    <tr>\n",
       "      <th>3</th>\n",
       "      <td>witness</td>\n",
       "      <td>0.157895</td>\n",
       "      <td>6</td>\n",
       "    </tr>\n",
       "    <tr>\n",
       "      <th>4</th>\n",
       "      <td>story</td>\n",
       "      <td>0.105263</td>\n",
       "      <td>2</td>\n",
       "    </tr>\n",
       "    <tr>\n",
       "      <th>5</th>\n",
       "      <td>vote</td>\n",
       "      <td>0.105263</td>\n",
       "      <td>20</td>\n",
       "    </tr>\n",
       "    <tr>\n",
       "      <th>6</th>\n",
       "      <td>judge</td>\n",
       "      <td>0.105263</td>\n",
       "      <td>2</td>\n",
       "    </tr>\n",
       "    <tr>\n",
       "      <th>7</th>\n",
       "      <td>jury</td>\n",
       "      <td>0.105263</td>\n",
       "      <td>5</td>\n",
       "    </tr>\n",
       "    <tr>\n",
       "      <th>8</th>\n",
       "      <td>storm</td>\n",
       "      <td>0.052632</td>\n",
       "      <td>1</td>\n",
       "    </tr>\n",
       "    <tr>\n",
       "      <th>9</th>\n",
       "      <td>murder</td>\n",
       "      <td>0.052632</td>\n",
       "      <td>8</td>\n",
       "    </tr>\n",
       "    <tr>\n",
       "      <th>10</th>\n",
       "      <td>fact</td>\n",
       "      <td>0.052632</td>\n",
       "      <td>2</td>\n",
       "    </tr>\n",
       "    <tr>\n",
       "      <th>11</th>\n",
       "      <td>person</td>\n",
       "      <td>0.052632</td>\n",
       "      <td>2</td>\n",
       "    </tr>\n",
       "    <tr>\n",
       "      <th>12</th>\n",
       "      <td>attack</td>\n",
       "      <td>0.052632</td>\n",
       "      <td>1</td>\n",
       "    </tr>\n",
       "    <tr>\n",
       "      <th>13</th>\n",
       "      <td>revelation</td>\n",
       "      <td>0.052632</td>\n",
       "      <td>1</td>\n",
       "    </tr>\n",
       "    <tr>\n",
       "      <th>14</th>\n",
       "      <td>deliberation</td>\n",
       "      <td>0.052632</td>\n",
       "      <td>2</td>\n",
       "    </tr>\n",
       "    <tr>\n",
       "      <th>15</th>\n",
       "      <td>argument</td>\n",
       "      <td>0.052632</td>\n",
       "      <td>2</td>\n",
       "    </tr>\n",
       "    <tr>\n",
       "      <th>16</th>\n",
       "      <td>woman</td>\n",
       "      <td>0.052632</td>\n",
       "      <td>1</td>\n",
       "    </tr>\n",
       "    <tr>\n",
       "      <th>17</th>\n",
       "      <td>opponent</td>\n",
       "      <td>0.052632</td>\n",
       "      <td>1</td>\n",
       "    </tr>\n",
       "    <tr>\n",
       "      <th>18</th>\n",
       "      <td>experiment</td>\n",
       "      <td>0.052632</td>\n",
       "      <td>3</td>\n",
       "    </tr>\n",
       "  </tbody>\n",
       "</table>\n",
       "</div>"
      ],
      "text/plain": [
       "            word    count1  total_counts\n",
       "0          Juror  0.263158            38\n",
       "1      defendant  0.263158             8\n",
       "2            boy  0.157895             8\n",
       "3        witness  0.157895             6\n",
       "4          story  0.105263             2\n",
       "5           vote  0.105263            20\n",
       "6          judge  0.105263             2\n",
       "7           jury  0.105263             5\n",
       "8          storm  0.052632             1\n",
       "9         murder  0.052632             8\n",
       "10          fact  0.052632             2\n",
       "11        person  0.052632             2\n",
       "12        attack  0.052632             1\n",
       "13    revelation  0.052632             1\n",
       "14  deliberation  0.052632             2\n",
       "15      argument  0.052632             2\n",
       "16         woman  0.052632             1\n",
       "17      opponent  0.052632             1\n",
       "18    experiment  0.052632             3"
      ]
     },
     "execution_count": 331,
     "metadata": {},
     "output_type": "execute_result"
    }
   ],
   "source": [
    "temp1['total_counts'] = counts\n",
    "temp1['prominence']"
   ]
  },
  {
   "cell_type": "code",
   "execution_count": 246,
   "metadata": {},
   "outputs": [
    {
     "data": {
      "text/plain": [
       "6.0"
      ]
     },
     "execution_count": 246,
     "metadata": {},
     "output_type": "execute_result"
    }
   ],
   "source": [
    "len(temp1)*.2"
   ]
  },
  {
   "cell_type": "code",
   "execution_count": null,
   "metadata": {},
   "outputs": [],
   "source": [
    "\n",
    "\n",
    "df_temp = pd.DataFrame(main_chars2).reset_index()\n",
    "df_temp.columns = ['word', 'count2']\n",
    "\n",
    "final_counts = pd.merge(counts, df_temp, on ='word', how ='outer')\n",
    "final_counts.fillna(0, inplace = True)"
   ]
  },
  {
   "cell_type": "code",
   "execution_count": 237,
   "metadata": {},
   "outputs": [
    {
     "data": {
      "text/html": [
       "<div>\n",
       "<style scoped>\n",
       "    .dataframe tbody tr th:only-of-type {\n",
       "        vertical-align: middle;\n",
       "    }\n",
       "\n",
       "    .dataframe tbody tr th {\n",
       "        vertical-align: top;\n",
       "    }\n",
       "\n",
       "    .dataframe thead th {\n",
       "        text-align: right;\n",
       "    }\n",
       "</style>\n",
       "<table border=\"1\" class=\"dataframe\">\n",
       "  <thead>\n",
       "    <tr style=\"text-align: right;\">\n",
       "      <th></th>\n",
       "      <th>index</th>\n",
       "      <th>lemmas</th>\n",
       "    </tr>\n",
       "  </thead>\n",
       "  <tbody>\n",
       "    <tr>\n",
       "      <th>0</th>\n",
       "      <td>defendant</td>\n",
       "      <td>8</td>\n",
       "    </tr>\n",
       "    <tr>\n",
       "      <th>1</th>\n",
       "      <td>Juror</td>\n",
       "      <td>7</td>\n",
       "    </tr>\n",
       "    <tr>\n",
       "      <th>2</th>\n",
       "      <td>jurors</td>\n",
       "      <td>6</td>\n",
       "    </tr>\n",
       "    <tr>\n",
       "      <th>3</th>\n",
       "      <td>boy</td>\n",
       "      <td>6</td>\n",
       "    </tr>\n",
       "    <tr>\n",
       "      <th>4</th>\n",
       "      <td>witness</td>\n",
       "      <td>4</td>\n",
       "    </tr>\n",
       "    <tr>\n",
       "      <th>5</th>\n",
       "      <td>vote</td>\n",
       "      <td>4</td>\n",
       "    </tr>\n",
       "    <tr>\n",
       "      <th>6</th>\n",
       "      <td>judge</td>\n",
       "      <td>2</td>\n",
       "    </tr>\n",
       "    <tr>\n",
       "      <th>7</th>\n",
       "      <td>murder</td>\n",
       "      <td>2</td>\n",
       "    </tr>\n",
       "    <tr>\n",
       "      <th>8</th>\n",
       "      <td>jury</td>\n",
       "      <td>2</td>\n",
       "    </tr>\n",
       "    <tr>\n",
       "      <th>9</th>\n",
       "      <td>Jurors</td>\n",
       "      <td>2</td>\n",
       "    </tr>\n",
       "    <tr>\n",
       "      <th>10</th>\n",
       "      <td>story</td>\n",
       "      <td>2</td>\n",
       "    </tr>\n",
       "    <tr>\n",
       "      <th>11</th>\n",
       "      <td>anger</td>\n",
       "      <td>1</td>\n",
       "    </tr>\n",
       "    <tr>\n",
       "      <th>12</th>\n",
       "      <td>points</td>\n",
       "      <td>1</td>\n",
       "    </tr>\n",
       "    <tr>\n",
       "      <th>13</th>\n",
       "      <td>exception</td>\n",
       "      <td>1</td>\n",
       "    </tr>\n",
       "    <tr>\n",
       "      <th>14</th>\n",
       "      <td>proceedings</td>\n",
       "      <td>1</td>\n",
       "    </tr>\n",
       "    <tr>\n",
       "      <th>15</th>\n",
       "      <td>juror</td>\n",
       "      <td>1</td>\n",
       "    </tr>\n",
       "    <tr>\n",
       "      <th>16</th>\n",
       "      <td>revelation</td>\n",
       "      <td>1</td>\n",
       "    </tr>\n",
       "    <tr>\n",
       "      <th>17</th>\n",
       "      <td>storm</td>\n",
       "      <td>1</td>\n",
       "    </tr>\n",
       "    <tr>\n",
       "      <th>18</th>\n",
       "      <td>opponent</td>\n",
       "      <td>1</td>\n",
       "    </tr>\n",
       "    <tr>\n",
       "      <th>19</th>\n",
       "      <td>deliberation</td>\n",
       "      <td>1</td>\n",
       "    </tr>\n",
       "    <tr>\n",
       "      <th>20</th>\n",
       "      <td>woman</td>\n",
       "      <td>1</td>\n",
       "    </tr>\n",
       "    <tr>\n",
       "      <th>21</th>\n",
       "      <td>fact</td>\n",
       "      <td>1</td>\n",
       "    </tr>\n",
       "    <tr>\n",
       "      <th>22</th>\n",
       "      <td>person</td>\n",
       "      <td>1</td>\n",
       "    </tr>\n",
       "    <tr>\n",
       "      <th>23</th>\n",
       "      <td>argument</td>\n",
       "      <td>1</td>\n",
       "    </tr>\n",
       "    <tr>\n",
       "      <th>24</th>\n",
       "      <td>one</td>\n",
       "      <td>1</td>\n",
       "    </tr>\n",
       "    <tr>\n",
       "      <th>25</th>\n",
       "      <td>attack</td>\n",
       "      <td>1</td>\n",
       "    </tr>\n",
       "    <tr>\n",
       "      <th>26</th>\n",
       "      <td>evidence</td>\n",
       "      <td>1</td>\n",
       "    </tr>\n",
       "    <tr>\n",
       "      <th>27</th>\n",
       "      <td>questions</td>\n",
       "      <td>1</td>\n",
       "    </tr>\n",
       "    <tr>\n",
       "      <th>28</th>\n",
       "      <td>dissenters</td>\n",
       "      <td>1</td>\n",
       "    </tr>\n",
       "    <tr>\n",
       "      <th>29</th>\n",
       "      <td>experiment</td>\n",
       "      <td>1</td>\n",
       "    </tr>\n",
       "  </tbody>\n",
       "</table>\n",
       "</div>"
      ],
      "text/plain": [
       "           index  lemmas\n",
       "0      defendant       8\n",
       "1          Juror       7\n",
       "2         jurors       6\n",
       "3            boy       6\n",
       "4        witness       4\n",
       "5           vote       4\n",
       "6          judge       2\n",
       "7         murder       2\n",
       "8           jury       2\n",
       "9         Jurors       2\n",
       "10         story       2\n",
       "11         anger       1\n",
       "12        points       1\n",
       "13     exception       1\n",
       "14   proceedings       1\n",
       "15         juror       1\n",
       "16    revelation       1\n",
       "17         storm       1\n",
       "18      opponent       1\n",
       "19  deliberation       1\n",
       "20         woman       1\n",
       "21          fact       1\n",
       "22        person       1\n",
       "23      argument       1\n",
       "24           one       1\n",
       "25        attack       1\n",
       "26      evidence       1\n",
       "27     questions       1\n",
       "28    dissenters       1\n",
       "29    experiment       1"
      ]
     },
     "execution_count": 237,
     "metadata": {},
     "output_type": "execute_result"
    }
   ],
   "source": [
    "pd.DataFrame(main_chars1).reset_index()"
   ]
  },
  {
   "cell_type": "code",
   "execution_count": null,
   "metadata": {},
   "outputs": [],
   "source": []
  },
  {
   "cell_type": "code",
   "execution_count": null,
   "metadata": {},
   "outputs": [],
   "source": []
  },
  {
   "cell_type": "code",
   "execution_count": null,
   "metadata": {},
   "outputs": [],
   "source": []
  },
  {
   "cell_type": "code",
   "execution_count": null,
   "metadata": {},
   "outputs": [],
   "source": []
  }
 ],
 "metadata": {
  "kernelspec": {
   "display_name": "Python 3",
   "language": "python",
   "name": "python3"
  },
  "language_info": {
   "codemirror_mode": {
    "name": "ipython",
    "version": 3
   },
   "file_extension": ".py",
   "mimetype": "text/x-python",
   "name": "python",
   "nbconvert_exporter": "python",
   "pygments_lexer": "ipython3",
   "version": "3.7.7"
  }
 },
 "nbformat": 4,
 "nbformat_minor": 4
}
